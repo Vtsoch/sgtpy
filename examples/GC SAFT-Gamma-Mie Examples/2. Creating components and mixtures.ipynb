{
 "cells": [
  {
   "cell_type": "markdown",
   "metadata": {},
   "source": [
    "# Creating components and mixtures with SAFT- $\\gamma$ - Mie\n",
    "\n",
    "This package includes the SAFT-$\\gamma$-Mie group contribution parameters published by [Haslam, et. al. (2020)](https://pubs.acs.org/doi/10.1021/acs.jced.0c00746). **Update:** Some extra interactions of the following articles have been included: [Febra et al. (2021)](https://doi.org/10.1016/j.fluid.2021.113002), [Wehbe et al. (2022)](https://doi.org/10.1080/00268976.2023.2197712), [Perdomo et al. (2023)](https://doi.org/10.1016/j.fluid.2022.113635), [Valsecchi et al. (2024)](https://doi.org/10.1016/j.fluid.2023.113952) and [Bernet et al. (2024)](https://doi.org/10.1021/acs.jced.3c00358).\n",
    "\n",
    "**note: This database includes parameters for charged groups, however, the Born and Ion term are not yet implemented on the package.**\n",
    "\n",
    "To start creating components and mixtures you must be sure that the needed groups for your molecules are included in the database. To access the database, you have to import it from the ```sgtpy``` package, as shown below:"
   ]
  },
  {
   "cell_type": "code",
   "execution_count": 1,
   "metadata": {},
   "outputs": [
    {
     "name": "stdout",
     "output_type": "stream",
     "text": [
      "list of groups in database:\n",
      "['CH3', 'CH2', 'CH', 'C', 'aCH', 'aCCH2', 'aCCH', 'CH2=', 'CH=', 'cCH2', 'COOH', 'CH3COCH3', 'COO', 'H2O', 'CH3OH', 'CH4', 'CO2', 'OH', 'CH2OH', 'CHOH', 'NH2', 'NH', 'N', 'cNH', 'cN', 'C=', 'aCCH3', 'aCOH', 'cCH', 'cCHNH', 'cCHN', 'H3O+', 'Li+', 'Na+', 'K+', 'Rb+', 'Mg2+', 'Ca2+', 'Sr2+', 'Ba2+', 'N+', 'OH-', 'F-', 'Cl-', 'Br-', 'I-', 'COO-', 'HSO4-', 'SO42-', 'HNO3', 'NO3-', 'HCO3-', 'aCCOaC', 'aCCOOH', 'aCNHaC', 'CH3CO', '[CH3][OCH2]', '[CH2][OCH2]', 'cO', 'CH2O', 'cCOO']\n"
     ]
    }
   ],
   "source": [
    "from sgtpy import database\n",
    "\n",
    "# getting the database available groups\n",
    "print('list of groups in database:')\n",
    "print(database.group_list)"
   ]
  },
  {
   "cell_type": "markdown",
   "metadata": {},
   "source": [
    "## Setting up pure components\n",
    "\n",
    "Components are created using python dictionaries. First, you need to create a dictionary using the group's names as keys and the numbers of times this group is present as values. \n",
    "\n",
    "Then, in order to read the database you need to run the ```component.saftgammamie``` method."
   ]
  },
  {
   "cell_type": "code",
   "execution_count": 2,
   "metadata": {},
   "outputs": [],
   "source": [
    "from sgtpy import component, saftgammamie\n",
    "\n",
    "# creating water component\n",
    "water = component(GC={'H2O':1})\n",
    "# reading database\n",
    "water.saftgammamie()\n",
    "\n",
    "# creating butanol component\n",
    "butanol = component(GC={'CH3':1, 'CH2':1, 'CH2OH':1})\n",
    "# reading database\n",
    "butanol.saftgammamie()\n",
    "\n",
    "# creating heptane component\n",
    "heptane = component(GC={'CH3':2, 'CH2':5})\n",
    "# reading database\n",
    "heptane.saftgammamie()"
   ]
  },
  {
   "cell_type": "markdown",
   "metadata": {},
   "source": [
    "If you want to use a modified database you need to supply it to the ```component.saftgammamie``` method."
   ]
  },
  {
   "cell_type": "code",
   "execution_count": 3,
   "metadata": {},
   "outputs": [],
   "source": [
    "#lets pretend this is a modified database\n",
    "from copy import copy\n",
    "modified_database = copy(database)\n",
    "\n",
    "#setting up the component with the modified database\n",
    "heptane.saftgammamie(database = modified_database)"
   ]
  },
  {
   "cell_type": "markdown",
   "metadata": {},
   "source": [
    "You can access the component attributes:\n",
    "\n",
    "**Note:** for components objects the energies ($\\epsilon$ and $\\epsilon^{AB}$) are stored in Kelvin units, distance ($\\sigma$) in $\\unicode{x212B}$ and the association volume ($\\kappa^{AB}$) in $\\unicode{x212B}^3$."
   ]
  },
  {
   "cell_type": "code",
   "execution_count": 4,
   "metadata": {},
   "outputs": [
    {
     "name": "stdout",
     "output_type": "stream",
     "text": [
      "groups ['CH3' 'CH2']\n",
      "vki [2 5]\n",
      "vk*:  [1 1]\n",
      "Sk:  [0.57255 0.22932]\n",
      "sigma_kk:  [4.0772 4.8801]\n",
      "eps_kk:  [256.77 473.39]\n",
      "lr_kk:  [15.05  19.871]\n",
      "la_kk:  [6. 6.]\n",
      "sites_kk [nH, ne1, ne2]:  [[0 0 0]\n",
      " [0 0 0]]\n",
      "\n",
      "unlike parameters:\n",
      "sigma_kl:  [[4.0772  4.47865]\n",
      " [4.47865 4.8801 ]]\n",
      "eps_kl:  [[256.77 350.77]\n",
      " [350.77 473.39]]\n",
      "lr_kl:  [[15.05       17.25817485]\n",
      " [17.25817485 19.871     ]]\n",
      "la_kl:  [[6. 6.]\n",
      " [6. 6.]]\n"
     ]
    }
   ],
   "source": [
    "# for this example you can change the component used in component: water, butanol, heptane\n",
    "comp = heptane\n",
    "print('groups', comp.subgroups)\n",
    "print('vki', comp.vki)\n",
    "print('vk*: ', comp.vk)\n",
    "print('Sk: ', comp.Sk)\n",
    "print('sigma_kk: ', comp.sigma_kk)\n",
    "print('eps_kk: ', comp.eps_kk)\n",
    "print('lr_kk: ', comp.lr_kk)\n",
    "print('la_kk: ', comp.la_kk)\n",
    "print('sites_kk [nH, ne1, ne2]: ', comp.sites_kk)\n",
    "if comp.asso_bool:\n",
    "    print('epsAB_kl: ', comp.epsAB_kl)\n",
    "    print('kAB_kl: ', comp.kAB_kl)\n",
    "\n",
    "# you can also check the unlike parameters\n",
    "print('')\n",
    "print('unlike parameters:' )\n",
    "print('sigma_kl: ', comp.sigma_kl)\n",
    "print('eps_kl: ', comp.eps_kl)\n",
    "print('lr_kl: ', comp.lr_kl)\n",
    "print('la_kl: ', comp.la_kl)"
   ]
  },
  {
   "cell_type": "markdown",
   "metadata": {},
   "source": [
    "With a pure component, you can create the ```eos``` object that will include all the necessary methods to compute phase equilibria and interfacial properties. This is done using the ```saftgammamie``` function.\n",
    "\n",
    "**Note:** for ```eos``` object the energies ($\\epsilon$ and $\\epsilon^{AB}$) are stored in *Joules*, distance ($\\sigma$) in *meters* and the association volume ($\\kappa^{AB}$) in *meters*$^3$."
   ]
  },
  {
   "cell_type": "code",
   "execution_count": 5,
   "metadata": {},
   "outputs": [
    {
     "name": "stdout",
     "output_type": "stream",
     "text": [
      "groups ['CH3' 'CH2']\n",
      "vki [2 5]\n",
      "vk*:  [1 1]\n",
      "Sk:  [0.57255 0.22932]\n",
      "sigma_kk:  [4.0772e-10 4.8801e-10]\n",
      "eps_kk:  [3.54509192e-21 6.53585335e-21]\n",
      "lr_kk:  [[15.05       17.25817485]\n",
      " [17.25817485 19.871     ]]\n",
      "la_kk:  [[6. 6.]\n",
      " [6. 6.]]\n",
      "\n",
      "unlike parameters:\n",
      "sigma_kl:  [[4.07720e-10 4.47865e-10]\n",
      " [4.47865e-10 4.88010e-10]]\n",
      "eps_kl:  [[3.54509192e-21 4.84290180e-21]\n",
      " [4.84290180e-21 6.53585335e-21]]\n",
      "lr_kl:  [[15.05       17.25817485]\n",
      " [17.25817485 19.871     ]]\n",
      "la_kl:  [[6. 6.]\n",
      " [6. 6.]]\n"
     ]
    }
   ],
   "source": [
    "eos = saftgammamie(comp)\n",
    "print('groups', eos.subgroups)\n",
    "print('vki', eos.vki)\n",
    "print('vk*: ', eos.vk)\n",
    "print('Sk: ', eos.Sk)\n",
    "print('sigma_kk: ', eos.sigma_kk)\n",
    "print('eps_kk: ', eos.eps_kk)\n",
    "print('lr_kk: ', eos.lr_kl)\n",
    "print('la_kk: ', eos.la_kl)\n",
    "if comp.asso_bool:\n",
    "    print('epsAB_kl: ', eos.epsAB_kl)\n",
    "    print('kAB_kl: ', eos.kAB_kl)\n",
    "    \n",
    "print('')\n",
    "print('unlike parameters:' )\n",
    "print('sigma_kl: ', eos.sigma_kl)\n",
    "print('eps_kl: ', eos.eps_kl)\n",
    "print('lr_kl: ', eos.lr_kl)\n",
    "print('la_kl: ', eos.la_kl)"
   ]
  },
  {
   "cell_type": "markdown",
   "metadata": {},
   "source": [
    "## Setting up mixtures\n",
    "\n",
    "In order to create mixtures, you need to create pure components. You can create a binary mixture with two components and then add more components to the mixture with the ```mixture.add_component``` method. Alternatively, you can set a mixture by adding pure components.\n",
    "\n",
    "Once all the components of the mixture have been added, the interaction parameters are read with the ```mixture.saftgammamie```  method."
   ]
  },
  {
   "cell_type": "code",
   "execution_count": 6,
   "metadata": {},
   "outputs": [],
   "source": [
    "from sgtpy import component, mixture, saftgammamie\n",
    "\n",
    "# creating pure components component\n",
    "water = component(GC={'H2O':1})\n",
    "# creating butanol component\n",
    "butanol = component(GC={'CH3':1, 'CH2':1, 'CH2OH':1})\n",
    "# creating ethanol component\n",
    "ethanol = component(GC={'CH3':1, 'CH2OH':1})\n",
    "\n",
    "# creating binary mixture and then adding a component\n",
    "mix = mixture(water, butanol)\n",
    "mix.add_component(ethanol)\n",
    "\n",
    "# or create the ternary mixture by adding a component (+)\n",
    "mix = mixture(water, butanol)\n",
    "mix += ethanol\n",
    "\n",
    "# or create the mixture by adding the pure components\n",
    "mix = water + butanol + ethanol\n",
    "\n",
    "# reading database\n",
    "mix.saftgammamie()"
   ]
  },
  {
   "cell_type": "markdown",
   "metadata": {},
   "source": [
    "As for pure fluids, you can supply a modified database."
   ]
  },
  {
   "cell_type": "code",
   "execution_count": 7,
   "metadata": {},
   "outputs": [],
   "source": [
    "#lets pretend this is a modified database\n",
    "from copy import copy\n",
    "modified_database = copy(database)\n",
    "\n",
    "#setting up the component with the modified database\n",
    "mix.saftgammamie(database = modified_database)"
   ]
  },
  {
   "cell_type": "markdown",
   "metadata": {},
   "source": [
    "You can access the mixture attributes:\n",
    "\n",
    "**Note:** for the mixture object, the energies ($\\epsilon$ and $\\epsilon^{AB}$) are stored in Kelvin units, distance ($\\sigma$) in $\\unicode{x212B}$ and the association volume ($\\kappa^{AB}$) in $\\unicode{x212B}^3$."
   ]
  },
  {
   "cell_type": "code",
   "execution_count": 8,
   "metadata": {},
   "outputs": [
    {
     "name": "stdout",
     "output_type": "stream",
     "text": [
      "groups ['H2O' 'CH3' 'CH2' 'CH2OH' 'CH3' 'CH2OH']\n",
      "vki [1 1 1 1 1 1]\n",
      "vk*:  [1 1 1 2 1 2]\n",
      "Sk:  [1.      0.57255 0.22932 0.58538 0.57255 0.58538]\n",
      "sigma_kk:  [3.0063 4.0772 4.8801 3.4054 4.0772 3.4054]\n",
      "eps_kk:  [266.68 256.77 473.39 407.22 256.77 407.22]\n",
      "lr_kk:  [17.02  15.05  19.871 22.699 15.05  22.699]\n",
      "la_kk:  [6. 6. 6. 6. 6. 6.]\n",
      "sites_kk [nH, ne1, ne2]:  [[2 2 0]\n",
      " [0 0 0]\n",
      " [0 0 0]\n",
      " [1 2 0]\n",
      " [0 0 0]\n",
      " [1 2 0]]\n",
      "epsAB_kl:  [[   0.  1985.4    0.  2000.6    0.  2000.6]\n",
      " [1985.4    0.   600.     0.   600.     0. ]\n",
      " [   0.   600.     0.  2097.9    0.  2097.9]\n",
      " [2000.6    0.  2097.9    0.     0.     0. ]\n",
      " [   0.   600.     0.     0.     0.  2097.9]\n",
      " [2000.6    0.  2097.9    0.  2097.9    0. ]]\n",
      "kAB_kl:  [[  0.    101.69    0.    130.02    0.    130.02 ]\n",
      " [101.69    0.    490.19    0.    490.19    0.   ]\n",
      " [  0.    490.19    0.     62.309   0.     62.309]\n",
      " [130.02    0.     62.309   0.      0.      0.   ]\n",
      " [  0.    490.19    0.      0.      0.     62.309]\n",
      " [130.02    0.     62.309   0.     62.309   0.   ]]\n",
      "\n",
      "unlike parameters:\n",
      "sigma_kl:  [[3.0063  3.54175 3.9432  3.20585 3.54175 3.20585]\n",
      " [3.54175 4.0772  4.47865 3.7413  4.0772  3.7413 ]\n",
      " [3.9432  4.47865 4.8801  4.14275 4.47865 4.14275]\n",
      " [3.20585 3.7413  4.14275 3.4054  3.7413  3.4054 ]\n",
      " [3.54175 4.0772  4.47865 3.7413  4.0772  3.7413 ]\n",
      " [3.20585 3.7413  4.14275 3.4054  3.7413  3.4054 ]]\n",
      "eps_kl:  [[266.68 358.18 423.63 358.02 358.18 358.02]\n",
      " [358.18 256.77 350.77 333.2  256.77 333.2 ]\n",
      " [423.63 350.77 473.39 423.17 350.77 423.17]\n",
      " [358.02 333.2  423.17 407.22 333.2  407.22]\n",
      " [358.18 256.77 350.77 333.2  256.77 333.2 ]\n",
      " [358.02 333.2  423.17 407.22 333.2  407.22]]\n",
      "lr_kl:  [[ 17.02       100.         100.          19.6186636  100.\n",
      "   19.6186636 ]\n",
      " [100.          15.05        17.25817485  18.40691241  15.05\n",
      "   18.40691241]\n",
      " [100.          17.25817485  19.871       21.2302449   17.25817485\n",
      "   21.2302449 ]\n",
      " [ 19.6186636   18.40691241  21.2302449   22.699       18.40691241\n",
      "   22.699     ]\n",
      " [100.          15.05        17.25817485  18.40691241  15.05\n",
      "   18.40691241]\n",
      " [ 19.6186636   18.40691241  21.2302449   22.699       18.40691241\n",
      "   22.699     ]]\n",
      "la_kl:  [[6. 6. 6. 6. 6. 6.]\n",
      " [6. 6. 6. 6. 6. 6.]\n",
      " [6. 6. 6. 6. 6. 6.]\n",
      " [6. 6. 6. 6. 6. 6.]\n",
      " [6. 6. 6. 6. 6. 6.]\n",
      " [6. 6. 6. 6. 6. 6.]]\n"
     ]
    }
   ],
   "source": [
    "print('groups', mix.subgroups)\n",
    "print('vki', mix.vki)\n",
    "print('vk*: ', mix.vk)\n",
    "print('Sk: ', mix.Sk)\n",
    "print('sigma_kk: ', mix.sigma_kk)\n",
    "print('eps_kk: ', mix.eps_kk)\n",
    "print('lr_kk: ', mix.lr_kk)\n",
    "print('la_kk: ', mix.la_kk)\n",
    "print('sites_kk [nH, ne1, ne2]: ', mix.sites_kk)\n",
    "if mix.asso_bool:\n",
    "    print('epsAB_kl: ', mix.epsAB_kl)\n",
    "    print('kAB_kl: ', mix.kAB_kl)\n",
    "\n",
    "# you can also check the unlike parameters\n",
    "print('')\n",
    "print('unlike parameters:' )\n",
    "print('sigma_kl: ', mix.sigma_kl)\n",
    "print('eps_kl: ', mix.eps_kl)\n",
    "print('lr_kl: ', mix.lr_kl)\n",
    "print('la_kl: ', mix.la_kl)"
   ]
  },
  {
   "cell_type": "markdown",
   "metadata": {},
   "source": [
    "With a mixture, you can create the ```eos``` object that will include all the necessary methods to compute phase equilibria and interfacial properties. This is done using the ```saftgammamie``` function.\n",
    "\n",
    "**Note:** for ```eos``` object, the energies ($\\epsilon$ and $\\epsilon^{AB}$) are stored in *Joules*, distance ($\\sigma$) in *meters* and the association volume ($\\kappa^{AB}$) in *meters*$^3$."
   ]
  },
  {
   "cell_type": "code",
   "execution_count": 9,
   "metadata": {},
   "outputs": [
    {
     "name": "stdout",
     "output_type": "stream",
     "text": [
      "groups ['H2O' 'CH3' 'CH2' 'CH2OH' 'CH3' 'CH2OH']\n",
      "vki [1 1 1 1 1 1]\n",
      "vk*:  [1 1 1 2 1 2]\n",
      "Sk:  [1.      0.57255 0.22932 0.58538 0.57255 0.58538]\n",
      "sigma_kk:  [3.0063e-10 4.0772e-10 4.8801e-10 3.4054e-10 4.0772e-10 3.4054e-10]\n",
      "eps_kk:  [3.68191422e-21 3.54509192e-21 6.53585335e-21 5.62227804e-21\n",
      " 3.54509192e-21 5.62227804e-21]\n",
      "lr_kk:  [17.02  15.05  19.871 22.699 15.05  22.699]\n",
      "la_kk:  [6. 6. 6. 6. 6. 6.]\n",
      "epsAB_kl:  [[0.00000000e+00 2.74114013e-20 0.00000000e+00 2.76212599e-20\n",
      "  0.00000000e+00 2.76212599e-20]\n",
      " [2.74114013e-20 0.00000000e+00 8.28389280e-21 0.00000000e+00\n",
      "  8.28389280e-21 0.00000000e+00]\n",
      " [0.00000000e+00 8.28389280e-21 0.00000000e+00 2.89646312e-20\n",
      "  0.00000000e+00 2.89646312e-20]\n",
      " [2.76212599e-20 0.00000000e+00 2.89646312e-20 0.00000000e+00\n",
      "  0.00000000e+00 0.00000000e+00]\n",
      " [0.00000000e+00 8.28389280e-21 0.00000000e+00 0.00000000e+00\n",
      "  0.00000000e+00 2.89646312e-20]\n",
      " [2.76212599e-20 0.00000000e+00 2.89646312e-20 0.00000000e+00\n",
      "  2.89646312e-20 0.00000000e+00]]\n",
      "kAB_kl:  [[0.0000e+00 1.0169e-28 0.0000e+00 1.3002e-28 0.0000e+00 1.3002e-28]\n",
      " [1.0169e-28 0.0000e+00 4.9019e-28 0.0000e+00 4.9019e-28 0.0000e+00]\n",
      " [0.0000e+00 4.9019e-28 0.0000e+00 6.2309e-29 0.0000e+00 6.2309e-29]\n",
      " [1.3002e-28 0.0000e+00 6.2309e-29 0.0000e+00 0.0000e+00 0.0000e+00]\n",
      " [0.0000e+00 4.9019e-28 0.0000e+00 0.0000e+00 0.0000e+00 6.2309e-29]\n",
      " [1.3002e-28 0.0000e+00 6.2309e-29 0.0000e+00 6.2309e-29 0.0000e+00]]\n",
      "\n",
      "unlike parameters:\n",
      "sigma_kl:  [[3.00630e-10 3.54175e-10 3.94320e-10 3.20585e-10 3.54175e-10 3.20585e-10]\n",
      " [3.54175e-10 4.07720e-10 4.47865e-10 3.74130e-10 4.07720e-10 3.74130e-10]\n",
      " [3.94320e-10 4.47865e-10 4.88010e-10 4.14275e-10 4.47865e-10 4.14275e-10]\n",
      " [3.20585e-10 3.74130e-10 4.14275e-10 3.40540e-10 3.74130e-10 3.40540e-10]\n",
      " [3.54175e-10 4.07720e-10 4.47865e-10 3.74130e-10 4.07720e-10 3.74130e-10]\n",
      " [3.20585e-10 3.74130e-10 4.14275e-10 3.40540e-10 3.74130e-10 3.40540e-10]]\n",
      "eps_kl:  [[3.68191422e-21 4.94520787e-21 5.84884251e-21 4.94299883e-21\n",
      "  4.94520787e-21 4.94299883e-21]\n",
      " [4.94520787e-21 3.54509192e-21 4.84290180e-21 4.60032180e-21\n",
      "  3.54509192e-21 4.60032180e-21]\n",
      " [5.84884251e-21 4.84290180e-21 6.53585335e-21 5.84249153e-21\n",
      "  4.84290180e-21 5.84249153e-21]\n",
      " [4.94299883e-21 4.60032180e-21 5.84249153e-21 5.62227804e-21\n",
      "  4.60032180e-21 5.62227804e-21]\n",
      " [4.94520787e-21 3.54509192e-21 4.84290180e-21 4.60032180e-21\n",
      "  3.54509192e-21 4.60032180e-21]\n",
      " [4.94299883e-21 4.60032180e-21 5.84249153e-21 5.62227804e-21\n",
      "  4.60032180e-21 5.62227804e-21]]\n",
      "lr_kl:  [[ 17.02       100.         100.          19.6186636  100.\n",
      "   19.6186636 ]\n",
      " [100.          15.05        17.25817485  18.40691241  15.05\n",
      "   18.40691241]\n",
      " [100.          17.25817485  19.871       21.2302449   17.25817485\n",
      "   21.2302449 ]\n",
      " [ 19.6186636   18.40691241  21.2302449   22.699       18.40691241\n",
      "   22.699     ]\n",
      " [100.          15.05        17.25817485  18.40691241  15.05\n",
      "   18.40691241]\n",
      " [ 19.6186636   18.40691241  21.2302449   22.699       18.40691241\n",
      "   22.699     ]]\n",
      "la_kl:  [[6. 6. 6. 6. 6. 6.]\n",
      " [6. 6. 6. 6. 6. 6.]\n",
      " [6. 6. 6. 6. 6. 6.]\n",
      " [6. 6. 6. 6. 6. 6.]\n",
      " [6. 6. 6. 6. 6. 6.]\n",
      " [6. 6. 6. 6. 6. 6.]]\n"
     ]
    }
   ],
   "source": [
    "# creating the eos object\n",
    "eosm = saftgammamie(mix)\n",
    "\n",
    "print('groups', eosm.subgroups)\n",
    "print('vki', eosm.vki)\n",
    "print('vk*: ', eosm.vk)\n",
    "print('Sk: ', eosm.Sk)\n",
    "print('sigma_kk: ', eosm.sigma_kk)\n",
    "print('eps_kk: ', eosm.eps_kk)\n",
    "print('lr_kk: ', eosm.lr_kk)\n",
    "print('la_kk: ', eosm.la_kk)\n",
    "if eosm.asso_bool:\n",
    "    print('epsAB_kl: ', eosm.epsAB_kl)\n",
    "    print('kAB_kl: ', eosm.kAB_kl)\n",
    "\n",
    "# you can also check the unlike parameters\n",
    "print('')\n",
    "print('unlike parameters:' )\n",
    "print('sigma_kl: ', eosm.sigma_kl)\n",
    "print('eps_kl: ', eosm.eps_kl)\n",
    "print('lr_kl: ', eosm.lr_kl)\n",
    "print('la_kl: ', eosm.la_kl)"
   ]
  },
  {
   "cell_type": "markdown",
   "metadata": {},
   "source": [
    "For further information about a function just run: ```function?```"
   ]
  }
 ],
 "metadata": {
  "kernelspec": {
   "display_name": "thermo",
   "language": "python",
   "name": "thermo"
  },
  "language_info": {
   "codemirror_mode": {
    "name": "ipython",
    "version": 3
   },
   "file_extension": ".py",
   "mimetype": "text/x-python",
   "name": "python",
   "nbconvert_exporter": "python",
   "pygments_lexer": "ipython3",
   "version": "3.9.7"
  }
 },
 "nbformat": 4,
 "nbformat_minor": 4
}
