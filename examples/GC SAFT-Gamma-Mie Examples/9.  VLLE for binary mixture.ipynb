{
 "cells": [
  {
   "cell_type": "markdown",
   "metadata": {},
   "source": [
    "# VLLE calculation for binary mixtures with SAFT-$\\gamma$-Mie\n",
    "\n",
    "In this notebook, the VLLE calculations for binary mixtures with ```saftgammamie``` EoS are illustrated.\n",
    "\n",
    "First, all the needed modules are imported.\n",
    "\n",
    "- numpy: numerical interface and work with arrays\n",
    "- matplotlib: to plot results\n",
    "- sgtpy: package with SAFT-$\\gamma$-Mie EoS and phase equilibria functions."
   ]
  },
  {
   "cell_type": "code",
   "execution_count": 1,
   "metadata": {},
   "outputs": [],
   "source": [
    "import numpy as np\n",
    "import matplotlib.pyplot as plt\n",
    "from sgtpy import component, mixture, saftgammamie"
   ]
  },
  {
   "cell_type": "markdown",
   "metadata": {},
   "source": [
    "Now, pure components are configured and created with the ```component``` function. Then, a mixture is created with them using the ```mixture``` function or by adding (`+`) pure components. The interaction parameters are set up with the ```mixture.saftgammamie``` method. Finally, the ```eos``` object is created with the ```saftgammamie``` function.\n",
    "\n",
    "The ```eos``` object includes all the necessary methods to compute phase equilibria and interfacial properties using SAFT-$\\gamma$-Mie EoS.\n",
    "\n",
    "For this notebook all calculations are exemplified for a mixture of 2-butanol and water."
   ]
  },
  {
   "cell_type": "code",
   "execution_count": 2,
   "metadata": {},
   "outputs": [],
   "source": [
    "butanol2 = component(GC={'CH3':2, 'CH2':1, 'CHOH':1})\n",
    "water = component(GC={'H2O':1})\n",
    "\n",
    "# creating mixture with mixture class function\n",
    "mix = mixture(butanol2, water)\n",
    "# or creating mixture by adding pure components\n",
    "mix = butanol2 + water\n",
    "\n",
    "mix.saftgammamie()\n",
    "eos = saftgammamie(mix)"
   ]
  },
  {
   "cell_type": "markdown",
   "metadata": {},
   "source": [
    "## VLLE calculation\n",
    "\n",
    "Because of degrees of freedom restrictions, this type of calculation is carried at a given temperature or pressure. This type of calculation is carried out with the ```vlleb``` function. This function requires initial guesses for the two liquid phases compositions(```x0``` and ```w0```), the vapor phase composition (```y0```), and the temperature or pressure, depending on the specification.\n",
    "\n",
    "The ```full_output``` option allows obtaining all the information related to the flash calculation. This includes the volume of the phases and the solution for the fraction of the nonbonded sites of each phase.\n",
    "\n",
    "Initial guesses can be obtained from tpd minimization (```tpd_min```, ```lle_init``` or ```tpd_minimas```). If any tpd < 0, it means that the global phase is unstable at that it will split into two or more phases. "
   ]
  },
  {
   "cell_type": "code",
   "execution_count": 3,
   "metadata": {},
   "outputs": [],
   "source": [
    "# phase equilibria conditions\n",
    "T = 365.  # K\n",
    "P = 1.01325e5  # Pa\n",
    "z = np.array([0.2, 0.8])"
   ]
  },
  {
   "cell_type": "code",
   "execution_count": 4,
   "metadata": {},
   "outputs": [
    {
     "data": {
      "text/plain": [
       "(array([0.03559041, 0.96440959]), -0.01619131265616236)"
      ]
     },
     "execution_count": 4,
     "metadata": {},
     "output_type": "execute_result"
    }
   ],
   "source": [
    "from sgtpy.equilibrium import tpd_min\n",
    "# initial guess for the composition of the trial phase\n",
    "w0 = np.array([0.1, 0.9])\n",
    "x0, tpx0 = tpd_min(w0, z, T, P, eos, stateW = 'L', stateZ = 'L')\n",
    "x0, tpx0"
   ]
  },
  {
   "cell_type": "code",
   "execution_count": 5,
   "metadata": {},
   "outputs": [
    {
     "data": {
      "text/plain": [
       "(array([0.4763473, 0.5236527]), -0.015375904008394059)"
      ]
     },
     "execution_count": 5,
     "metadata": {},
     "output_type": "execute_result"
    }
   ],
   "source": [
    "# initial guess for the composition of the trial phase\n",
    "w0 = np.array([0.5, 0.5])\n",
    "w0, tpw0 = tpd_min(w0, z, T, P, eos, stateW = 'L', stateZ = 'L')\n",
    "w0, tpw0"
   ]
  },
  {
   "cell_type": "code",
   "execution_count": 6,
   "metadata": {},
   "outputs": [
    {
     "data": {
      "text/plain": [
       "(array([0.39538751, 0.60461249]), -0.20703703771605442)"
      ]
     },
     "execution_count": 6,
     "metadata": {},
     "output_type": "execute_result"
    }
   ],
   "source": [
    "y0 = np.array([0.5, 0.5])\n",
    "y0, tpv0 = tpd_min(w0, z, T, P, eos, stateW = 'V', stateZ = 'L')\n",
    "y0, tpv0"
   ]
  },
  {
   "cell_type": "markdown",
   "metadata": {},
   "source": [
    "Once good initial guesses are available, the binary three-phase equilibria is computed with the ```vlleb``` function as follows."
   ]
  },
  {
   "cell_type": "code",
   "execution_count": 7,
   "metadata": {},
   "outputs": [
    {
     "data": {
      "text/plain": [
       "      T: 365.0\n",
       "      P: 121209.34284738044\n",
       "  error: 1.0313677981258915e-12\n",
       "   nfev: 14\n",
       "      X: array([0.03575514, 0.96424486])\n",
       "     vx: 2.1280052546710004e-05\n",
       "  Xassx: array([0.09925693, 0.36463567, 0.13197405, 0.13883376])\n",
       " statex: 'Liquid'\n",
       "      W: array([0.47793421, 0.52206579])\n",
       "     vw: 5.492895005370357e-05\n",
       "  Xassw: array([0.17939887, 0.55770678, 0.21506411, 0.24435234])\n",
       " statew: 'Liquid'\n",
       "      Y: array([0.39521168, 0.60478832])\n",
       "     vy: 0.02410480101968427\n",
       "  Xassy: array([0.97555201, 0.99391855, 0.98293403, 0.97892005])\n",
       " statey: 'Vapor'"
      ]
     },
     "execution_count": 7,
     "metadata": {},
     "output_type": "execute_result"
    }
   ],
   "source": [
    "from sgtpy.equilibrium import vlleb\n",
    "# initial guesses for aqueous, organic and vapor phase composition obtained from tpd minimization\n",
    "# calculation at fixed temperature\n",
    "P0 = 1.01325e5  # Pa\n",
    "vlleb(x0, w0, y0, P0, T, 'T', eos, full_output=True)"
   ]
  },
  {
   "cell_type": "code",
   "execution_count": 8,
   "metadata": {},
   "outputs": [
    {
     "data": {
      "text/plain": [
       "      T: 360.4627056837925\n",
       "      P: 101325.0\n",
       "  error: 1.0457410568939328e-12\n",
       "   nfev: 14\n",
       "      X: array([0.03688282, 0.96311718])\n",
       "     vx: 2.1276221039350026e-05\n",
       "  Xassx: array([0.09481754, 0.35546623, 0.12738988, 0.13474036])\n",
       " statex: 'Liquid'\n",
       "      W: array([0.47301928, 0.52698072])\n",
       "     vw: 5.4228695151128524e-05\n",
       "  Xassw: array([0.16840724, 0.54694615, 0.20424471, 0.23768712])\n",
       " statew: 'Liquid'\n",
       "      Y: array([0.39226543, 0.60773457])\n",
       "     vy: 0.028581003060714347\n",
       "  Xassy: array([0.97741748, 0.99441393, 0.98443312, 0.98075068])\n",
       " statey: 'Vapor'"
      ]
     },
     "execution_count": 8,
     "metadata": {},
     "output_type": "execute_result"
    }
   ],
   "source": [
    "# initial guesses for aqueous, organic and vapor phase composition obtained from tpd minimization\n",
    "# calculation at fixed pressure\n",
    "T0 =  365.  # K\n",
    "sol = vlleb(x0, w0, y0, T0, P, 'P', eos, full_output=True)\n",
    "sol"
   ]
  },
  {
   "cell_type": "markdown",
   "metadata": {},
   "source": [
    "## Whole phase diagram calculation\n",
    "\n",
    "In the following codeblock, the whole phase diagram is computed at constant pressure.\n",
    "\n",
    "First, the three-phase equilibria computation is carried at the given specification (pressure for this example), then the phase diagram can be separated in a zone for VLE (temperatures higher than computed heterozaeotropic temperature) and another zone where LLE take place (temperatures lower than the computed heterozaeotropic temperature).\n",
    "\n",
    "It is advised to store the computed volume roots and nonbonded sites fraction, as these can be used in the following iterations to speed up calculations."
   ]
  },
  {
   "cell_type": "code",
   "execution_count": 9,
   "metadata": {},
   "outputs": [],
   "source": [
    "from sgtpy.equilibrium import bubbleTy, lle\n",
    "\n",
    "# three phase equilibria computation\n",
    "sol = vlleb(x0, w0, y0, T0, P, 'P', eos, full_output=True)\n",
    "Xhaz,  Whaz, Yhaz, Thaz = sol.X, sol.W, sol.Y, sol.T\n",
    "\n",
    "n = 30\n",
    "\n",
    "# VLE zone 1\n",
    "x1 = np.linspace(0, Xhaz[0], n)\n",
    "XI = np.array([x1, 1-x1])\n",
    "YI = np.zeros_like(XI)\n",
    "TI = np.zeros(n)\n",
    "\n",
    "vxI = np.zeros(n)\n",
    "vyI = np.zeros(n)\n",
    "i = 0\n",
    "T0 = 373.\n",
    "sol = bubbleTy(XI[:, i], T0, XI[:, i], P, eos, full_output = True)\n",
    "YI[:, i], TI[i] = sol.Y, sol.T\n",
    "vxI[i], vyI[i] = sol.v1, sol.v2\n",
    "for i in range(1, n):\n",
    "    sol = bubbleTy(YI[:, i-1], TI[i-1], XI[:, i], P, eos, full_output=True, v0=[vxI[i-1], vyI[i-1]])\n",
    "    YI[:, i], TI[i] = sol.Y, sol.T\n",
    "    vxI[i], vyI[i] = sol.v1, sol.v2\n",
    "    \n",
    "# VLE zone 2\n",
    "w1 = np.linspace(Whaz[0], 1, n)\n",
    "XII = np.array([w1, 1-w1])\n",
    "YII = np.zeros_like(XII)\n",
    "TII = np.zeros(n)\n",
    "vxII = np.zeros(n)\n",
    "vyII = np.zeros(n)\n",
    "\n",
    "i = 0\n",
    "sol = bubbleTy(Yhaz, Thaz, XII[:, i], P, eos, full_output = True)\n",
    "YII[:, i], TII[i] = sol.Y, sol.T\n",
    "vxII[i], vyII[i] = sol.v1, sol.v2\n",
    "\n",
    "for i in range(1, n):\n",
    "    sol = bubbleTy(YII[:, i-1], TII[i-1], XII[:, i], P, eos, full_output = True, v0=[vxII[i-1], vyII[i-1]])\n",
    "    YII[:, i], TII[i] = sol.Y, sol.T\n",
    "    vxII[i], vyII[i] = sol.v1, sol.v2\n",
    "\n",
    "# LLE calculation\n",
    "Tll =  np.linspace(Thaz,  290, n)\n",
    "Xll = np.zeros([2, n])\n",
    "Wll = np.zeros([2, n])\n",
    "\n",
    "vxll = np.zeros(n)\n",
    "vwll = np.zeros(n)\n",
    "\n",
    "i = 0 \n",
    "Z = (Xhaz+Whaz)/2\n",
    "sol = lle(Xhaz, Whaz, Z, Tll[i], P, eos, full_output=True)\n",
    "Xll[:, i], Wll[:, i] = sol.X\n",
    "vxll[i], vwll[i] = sol.v\n",
    "\n",
    "for i in range(1, n):\n",
    "    Z = (Xll[:, i-1] + Wll[:, i-1])/2\n",
    "    sol = lle(Xll[:, i-1], Wll[:, i-1], Z, Tll[i], P, eos, full_output=True, v0=[vxll[i-1], vwll[i-1]])\n",
    "    Xll[:, i], Wll[:, i] = sol.X\n",
    "    vxll[i], vwll[i] = sol.v\n",
    "    # print(i, sol.error_outer, sol.error_inner, sol.tetha, sol.iter)"
   ]
  },
  {
   "cell_type": "markdown",
   "metadata": {},
   "source": [
    "The results are plotted bellow."
   ]
  },
  {
   "cell_type": "code",
   "execution_count": 10,
   "metadata": {},
   "outputs": [
    {
     "data": {
      "text/plain": [
       "(0.0, 1.0)"
      ]
     },
     "execution_count": 10,
     "metadata": {},
     "output_type": "execute_result"
    },
    {
     "data": {
      "image/png": "[encoded data removed]",
      "text/plain": [
       "<Figure size 360x360 with 1 Axes>"
      ]
     },
     "metadata": {
      "needs_background": "light"
     },
     "output_type": "display_data"
    }
   ],
   "source": [
    "fig = plt.figure(figsize=(5,5))\n",
    "ax = fig.add_subplot(111)\n",
    "ax.plot(XI[0], TI, color = 'b')\n",
    "ax.plot(YI[0], TI, color = 'b')\n",
    "\n",
    "ax.plot(XII[0], TII, color = 'b')\n",
    "ax.plot(YII[0], TII, color = 'b')\n",
    "\n",
    "ax.plot(Xll[0], Tll, color = 'b')\n",
    "ax.plot(Wll[0], Tll, color = 'b')\n",
    "\n",
    "ax.plot([Xhaz[0], Yhaz[0], Whaz[0]], [Thaz, Thaz, Thaz], 'o-', color = 'b')\n",
    "\n",
    "\n",
    "ax.tick_params(direction='in')\n",
    "ax.set_xlabel('$x_1, y_1$')\n",
    "ax.set_ylabel('T / K')\n",
    "ax.set_ylim([280, 400])\n",
    "ax.set_xlim([0, 1])\n",
    "# fig.savefig('vlle-binary.pdf')"
   ]
  },
  {
   "cell_type": "markdown",
   "metadata": {},
   "source": [
    "For further information of any of these functions just run: ```function?```"
   ]
  },
  {
   "cell_type": "code",
   "execution_count": null,
   "metadata": {},
   "outputs": [],
   "source": []
  }
 ],
 "metadata": {
  "kernelspec": {
   "display_name": "thermo",
   "language": "python",
   "name": "thermo"
  },
  "language_info": {
   "codemirror_mode": {
    "name": "ipython",
    "version": 3
   },
   "file_extension": ".py",
   "mimetype": "text/x-python",
   "name": "python",
   "nbconvert_exporter": "python",
   "pygments_lexer": "ipython3",
   "version": "3.9.7"
  }
 },
 "nbformat": 4,
 "nbformat_minor": 4
}
