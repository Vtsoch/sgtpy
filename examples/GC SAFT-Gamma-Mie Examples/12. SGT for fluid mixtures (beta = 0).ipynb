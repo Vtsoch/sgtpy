{
 "cells": [
  {
   "cell_type": "markdown",
   "metadata": {},
   "source": [
    "# SGT ($\\beta$ = 0) calculation for fluids mixtures with SAFT-$\\gamma$-Mie\n",
    "\n",
    "In this notebook, the SGT ($\\beta$ = 0) calculations for fluid mixtures with ```saftgammamie``` EoS are illustrated.\n",
    "\n",
    "When using $\\beta$ = 0, the cross-influence parameters are computed as $c_{ij} = \\sqrt{c_{ii}c_{jj}}$.\n",
    "\n",
    "First, all the needed modules are imported.\n",
    "\n",
    "- numpy: numerical interface and work with arrays\n",
    "- matplotlib: to plot results\n",
    "- sgtpy: package with SAFT-$\\gamma$-Mie EoS and SGT functions."
   ]
  },
  {
   "cell_type": "code",
   "execution_count": 1,
   "metadata": {},
   "outputs": [],
   "source": [
    "import numpy as np\n",
    "import matplotlib.pyplot as plt\n",
    "from sgtpy import component, mixture, saftgammamie"
   ]
  },
  {
   "cell_type": "markdown",
   "metadata": {},
   "source": [
    "Now, pure components are configured and created with the ```component``` function. To use SGT it is required to set the influence parameter (```cii```) for the pure fluids. Then, a mixture is created with them using the ```mixture``` function or by adding (`+`) pure components. The interaction parameters are set up with the ```mixture.saftgammamie``` method. Finally, the ```eos``` object is created with the ```saftgammamie``` function.\n",
    "\n",
    "The ```eos``` object includes all the necessary methods to compute phase equilibria and interfacial properties using SAFT-$\\gamma$-Mie EoS.\n",
    "\n",
    "For this notebook, the calculations are exemplified for the mixture of ethanol + water and the mixture of hexane + ethanol."
   ]
  },
  {
   "cell_type": "code",
   "execution_count": 2,
   "metadata": {},
   "outputs": [],
   "source": [
    "ethanol = component(GC={'CH3':1, 'CH2OH':1}, cii=4.1388468864244875e-20)\n",
    "water = component(GC={'H2O':1}, cii=1.6033244745871344e-20)\n",
    "\n",
    "# creating mixture with mixture class function\n",
    "mix1 = mixture(ethanol, water)\n",
    "# or creating mixture by adding pure components\n",
    "mix1 = ethanol + water\n",
    "\n",
    "mix1.saftgammamie()\n",
    "eos1 = saftgammamie(mix1)"
   ]
  },
  {
   "cell_type": "markdown",
   "metadata": {},
   "source": [
    "Now, it is required to compute the phase equilibria (VLE, LLE or VLLE). See Notebooks 5 to 10 for more information about phase equilibria computation.\n",
    "\n",
    "In this example, the bubble point of the mixture of ethanol and water at $x_1=0.2$ and 298.15K is computed."
   ]
  },
  {
   "cell_type": "code",
   "execution_count": 3,
   "metadata": {},
   "outputs": [
    {
     "data": {
      "text/plain": [
       "      T: 298.15\n",
       "      P: 5960.597010919845\n",
       "  error: 6.71998012791164e-11\n",
       "   iter: 7\n",
       "      X: array([0.2, 0.8])\n",
       "     v1: 2.5174164832577993e-05\n",
       "  Xassl: array([0.24866944, 0.10235391, 0.04199   , 0.17248521])\n",
       " state1: 'Liquid'\n",
       "      Y: array([0.53498119, 0.46501881])\n",
       "     v2: 0.41261612855659857\n",
       "  Xassv: array([0.99705622, 0.99519265, 0.99373137, 0.99756865])\n",
       " state2: 'Vapor'\n",
       " method: 'quasi-newton + ASS'"
      ]
     },
     "execution_count": 3,
     "metadata": {},
     "output_type": "execute_result"
    }
   ],
   "source": [
    "from sgtpy.equilibrium import bubblePy\n",
    "\n",
    "T = 298.15 # K\n",
    "# liquid composition\n",
    "x = np.array([0.2, 0.8])\n",
    "# initial guesses\n",
    "P0 = 1e4 # Pa\n",
    "y0 = np.array([0.8, 0.2])\n",
    "sol = bubblePy(y0, P0, x, T, eos1, full_output=True)\n",
    "y, P = sol.Y, sol.P\n",
    "vl, vv = sol.v1, sol.v2\n",
    "sol"
   ]
  },
  {
   "cell_type": "markdown",
   "metadata": {},
   "source": [
    "The function ```sgt_mix_beta0``` is used to study the interfacial behavior with SGT and $\\beta=0$. This function includes two possible solutions methods:\n",
    "\n",
    "- ```reference```: uses the component ```s``` as reference component to compute the density path. Recommended when one of the components behaves monotonically through the interface.\n",
    "- ```liang```: used Liang path function to compute the density profiles. Recommended when none of the components behaves monotonically through the interface.\n",
    "\n",
    "When using ```full_output=True``` all the information related to the SGT calculation is output. This includes the interfacial tension, density profiles, and grand thermodynamic potential difference."
   ]
  },
  {
   "cell_type": "code",
   "execution_count": 4,
   "metadata": {},
   "outputs": [
    {
     "name": "stderr",
     "output_type": "stream",
     "text": [
      "/opt/homebrew/Caskroom/miniforge/base/envs/thermo/lib/python3.9/site-packages/scipy/optimize/minpack.py:175: RuntimeWarning: The iteration is not making good progress, as measured by the \n",
      "  improvement from the last ten iterations.\n",
      "  warnings.warn(msg, RuntimeWarning)\n",
      "/opt/homebrew/Caskroom/miniforge/base/envs/thermo/lib/python3.9/site-packages/scipy/optimize/minpack.py:175: RuntimeWarning: The iteration is not making good progress, as measured by the \n",
      "  improvement from the last five Jacobian evaluations.\n",
      "  warnings.warn(msg, RuntimeWarning)\n",
      "/Users/gac21/Documents/sgtpy/sgtpy/gammamie_mixtures/ares.py:926: RuntimeWarning: invalid value encountered in log\n",
      "  aux1 = np.log(Xass) - Xass/2 + 1/2\n",
      "/Users/gac21/Documents/sgtpy/sgtpy/gammamie_mixtures/ahs_monomer.py:121: RuntimeWarning: invalid value encountered in log\n",
      "  log3 = np.log(xhi3_1)\n",
      "/Users/gac21/Documents/sgtpy/sgtpy/gammamie_mixtures/gdHS_chain.py:134: RuntimeWarning: invalid value encountered in log\n",
      "  k0 = -np.log(xhix_1) + (42*xhix - 39*xhix2 + 9*xhix3 - 2*xhix4)/(6*xhix_13)\n",
      "/Users/gac21/Documents/sgtpy/sgtpy/gammamie_mixtures/lngmie_chain.py:84: RuntimeWarning: divide by zero encountered in log\n",
      "  lng = np.log(ghs) + aux / ghs\n",
      "/Users/gac21/Documents/sgtpy/sgtpy/gammamie_mixtures/lngmie_chain.py:84: RuntimeWarning: divide by zero encountered in true_divide\n",
      "  lng = np.log(ghs) + aux / ghs\n",
      "/Users/gac21/Documents/sgtpy/sgtpy/gammamie_mixtures/lngmie_chain.py:88: RuntimeWarning: invalid value encountered in true_divide\n",
      "  dlng /= ghs2\n",
      "/Users/gac21/Documents/sgtpy/sgtpy/gammamie_mixtures/lngmie_chain.py:92: RuntimeWarning: invalid value encountered in true_divide\n",
      "  dlngx /= ghs2\n",
      "/Users/gac21/Documents/sgtpy/sgtpy/gammamie_mixtures/ares.py:871: RuntimeWarning: invalid value encountered in matmul\n",
      "  achain = - lng@xzs_m1\n",
      "/Users/gac21/Documents/sgtpy/sgtpy/gammamie_mixtures/ares.py:872: RuntimeWarning: invalid value encountered in multiply\n",
      "  dachainx = - dlngx@xzs_m1 - lng[0] * zs_m1\n"
     ]
    }
   ],
   "source": [
    "from sgtpy.sgt import sgt_mix_beta0\n",
    "rhol = x/vl\n",
    "rhov = y/vv\n",
    "solr1 = sgt_mix_beta0(rhov, rhol, T, P, eos1, s=0, method='reference', full_output=True)\n",
    "solr2 = sgt_mix_beta0(rhov, rhol, T, P, eos1, s=1, method='reference', full_output=True)\n",
    "soll = sgt_mix_beta0(rhov, rhol, T, P, eos1, n=300, method='liang', full_output=True)"
   ]
  },
  {
   "cell_type": "markdown",
   "metadata": {},
   "source": [
    "The interfacial tension results are shown below."
   ]
  },
  {
   "cell_type": "code",
   "execution_count": 5,
   "metadata": {},
   "outputs": [
    {
     "name": "stdout",
     "output_type": "stream",
     "text": [
      "Reference component method (1) :  14.753323677586351 mN/m\n",
      "Reference component method (2) :  74.61528303137321 mN/m\n",
      "Liang path Function:  35.70200225956214 mN/m\n"
     ]
    }
   ],
   "source": [
    "print('Reference component method (1) : ', solr1.tension, 'mN/m')\n",
    "print('Reference component method (2) : ', solr2.tension, 'mN/m')\n",
    "print('Liang path Function: ', soll.tension, 'mN/m')"
   ]
  },
  {
   "cell_type": "markdown",
   "metadata": {},
   "source": [
    "As can be seen in the following plot, for this mixture only the ```Liang``` path function method (red line) is able to compute the density path. \n",
    "The reference component method is not able to compute the complete density path using component 1 (black line) or component 2 (cyan line).\n",
    " \n",
    "Additionally, the parametric variable $\\alpha$ from the Liang path function is plotted. If this variable is different that zero at the equilibrium compositions, it is a sign that $\\beta=0$ might not be suitable for the mixture."
   ]
  },
  {
   "cell_type": "code",
   "execution_count": 6,
   "metadata": {},
   "outputs": [
    {
     "data": {
      "text/plain": [
       "Text(0.5, 0, 'path function / 1000')"
      ]
     },
     "execution_count": 6,
     "metadata": {},
     "output_type": "execute_result"
    },
    {
     "data": {
      "image/png": "[encoded data removed]",
      "text/plain": [
       "<Figure size 720x288 with 2 Axes>"
      ]
     },
     "metadata": {
      "needs_background": "light"
     },
     "output_type": "display_data"
    }
   ],
   "source": [
    "rhor1 = solr1.rho  / 1000  # kmol/m3\n",
    "rhor2 = solr2.rho / 1000  # kmol/m3\n",
    "\n",
    "rholiang =  soll.rho / 1000  # kmol/m3\n",
    "alphas = soll.alphas\n",
    "path = soll.path\n",
    "\n",
    "fig = plt.figure(figsize = (10, 4))\n",
    "fig.subplots_adjust( wspace=0.3)\n",
    "ax1 = fig.add_subplot(121)\n",
    "ax1.plot(rholiang[0], rholiang[1], color = 'red')\n",
    "ax1.plot(rhor2[0], rhor2[1], color = 'cyan')\n",
    "ax1.plot(rhor1[0], rhor1[1], color = 'black')\n",
    "ax1.plot(rhov[0]/1000, rhov[1]/1000, 'o', color = 'k')\n",
    "ax1.plot(rhol[0]/1000, rhol[1]/1000, 'o', color = 'k')\n",
    "ax1.set_xlabel(r'$\\rho_1$ /  kmol m$^{-3}$')\n",
    "ax1.set_ylabel(r'$\\rho_2$ / kmol m$^{-3}$')\n",
    "\n",
    "ax2 = fig.add_subplot(122)\n",
    "ax2.plot(path/1000, alphas)\n",
    "ax2.axhline(y = 0, linestyle = '--',color = 'r')\n",
    "ax2.set_ylabel(r'$\\alpha$')\n",
    "ax2.set_xlabel(r'path function / 1000')"
   ]
  },
  {
   "cell_type": "markdown",
   "metadata": {},
   "source": [
    "## Hexane - Ethanol\n",
    "\n",
    "The interfacial behavior of this mixture is well known to be difficult to study as its displays multiple stationary points in the inhomogeneous zone. "
   ]
  },
  {
   "cell_type": "code",
   "execution_count": 7,
   "metadata": {},
   "outputs": [],
   "source": [
    "hexane = component(GC={'CH3':2, 'CH2':4}, cii=3.288396028761707e-19)\n",
    "\n",
    "mix2 = mixture(hexane, ethanol)\n",
    "# or\n",
    "mix2 = hexane + ethanol\n",
    "\n",
    "mix2.saftgammamie()\n",
    "eos2 = saftgammamie(mix2)"
   ]
  },
  {
   "cell_type": "markdown",
   "metadata": {},
   "source": [
    "In this example, the bubble point of the mixture at $x_1=0.3$ and 298.15K is computed with the ```bubblePy``` function."
   ]
  },
  {
   "cell_type": "code",
   "execution_count": 8,
   "metadata": {},
   "outputs": [
    {
     "data": {
      "text/plain": [
       "      T: 298.15\n",
       "      P: 24565.96219155949\n",
       "  error: 7.055689366097795e-12\n",
       "   iter: 7\n",
       "      X: array([0.3, 0.7])\n",
       "     v1: 7.871213436279095e-05\n",
       "  Xassl: array([0.07624009, 0.53812004])\n",
       " state1: 'Liquid'\n",
       "      Y: array([0.72958876, 0.27041124])\n",
       "     v2: 0.0998076488693117\n",
       "  Xassv: array([0.99406146, 0.99703073])\n",
       " state2: 'Vapor'\n",
       " method: 'quasi-newton + ASS'"
      ]
     },
     "execution_count": 8,
     "metadata": {},
     "output_type": "execute_result"
    }
   ],
   "source": [
    "T = 298.15 # K\n",
    "x = np.array([0.3, 0.7])\n",
    "y0 = 1.*x\n",
    "P0 = 8000. # Pa\n",
    "sol = bubblePy(y0, P0, x, T, eos2, full_output=True)\n",
    "y, P = sol.Y, sol.P\n",
    "vl, vv = sol.v1, sol.v2\n",
    "rhox = x/vl\n",
    "rhoy = y/vv\n",
    "sol"
   ]
  },
  {
   "cell_type": "markdown",
   "metadata": {},
   "source": [
    "Similar to the previous mixture, the ```sgt_mix_beta0``` is used to study the interfacial behavior of the mixture. "
   ]
  },
  {
   "cell_type": "code",
   "execution_count": 9,
   "metadata": {},
   "outputs": [
    {
     "name": "stderr",
     "output_type": "stream",
     "text": [
      "/Users/gac21/Documents/sgtpy/sgtpy/gammamie_mixtures/ahs_monomer.py:121: RuntimeWarning: invalid value encountered in log\n",
      "  log3 = np.log(xhi3_1)\n",
      "/Users/gac21/Documents/sgtpy/sgtpy/gammamie_mixtures/gdHS_chain.py:134: RuntimeWarning: invalid value encountered in log\n",
      "  k0 = -np.log(xhix_1) + (42*xhix - 39*xhix2 + 9*xhix3 - 2*xhix4)/(6*xhix_13)\n",
      "/Users/gac21/Documents/sgtpy/sgtpy/gammamie_mixtures/ares.py:926: RuntimeWarning: invalid value encountered in log\n",
      "  aux1 = np.log(Xass) - Xass/2 + 1/2\n"
     ]
    }
   ],
   "source": [
    "solr1 = sgt_mix_beta0(rhoy, rhox, T, P, eos2, s=0, method='reference', full_output=True)\n",
    "solr2 = sgt_mix_beta0(rhoy, rhox, T, P, eos2, s=1, method='reference', full_output=True)\n",
    "soll = sgt_mix_beta0(rhoy, rhox, T, P, eos2, n=300, method='liang', full_output=True)"
   ]
  },
  {
   "cell_type": "markdown",
   "metadata": {},
   "source": [
    "The interfacial tension results are shown below."
   ]
  },
  {
   "cell_type": "code",
   "execution_count": 10,
   "metadata": {},
   "outputs": [
    {
     "name": "stdout",
     "output_type": "stream",
     "text": [
      "Reference component method (1) :  9.566628444282228 mN/m\n",
      "Reference component method (2) :  17.00706982915842 mN/m\n",
      "Liang path Function:  16.353369316420647 mN/m\n"
     ]
    }
   ],
   "source": [
    "print('Reference component method (1) : ', solr1.tension, 'mN/m')\n",
    "print('Reference component method (2) : ', solr2.tension, 'mN/m')\n",
    "print('Liang path Function: ', soll.tension, 'mN/m')"
   ]
  },
  {
   "cell_type": "markdown",
   "metadata": {},
   "source": [
    "As for the previous mixture, only the ```Liang``` path function method (red line) is able to compute the complete density path. \n",
    "The reference component method is not able to compute the complete density path using component 1 (black line) or component 2 (cyan line). This was expected because of the multiple stationary points on the density profile.\n",
    " \n",
    "Additionally, the parametric variable $\\alpha$ from the Liang path function is plotted. If this variable is different that zero at the equilibrium compositions, it is a sign that $\\beta=0$ might not be suitable for the mixture."
   ]
  },
  {
   "cell_type": "code",
   "execution_count": 11,
   "metadata": {},
   "outputs": [
    {
     "data": {
      "image/png": "[encoded data removed]",
      "text/plain": [
       "<Figure size 720x288 with 2 Axes>"
      ]
     },
     "metadata": {
      "needs_background": "light"
     },
     "output_type": "display_data"
    }
   ],
   "source": [
    "rhor1 = solr1.rho  / 1000  # kmol/m3\n",
    "rhor2 = solr2.rho / 1000  # kmol/m3\n",
    "\n",
    "rholiang =  soll.rho / 1000 # kmol/m3\n",
    "alphas = soll.alphas\n",
    "path = soll.path\n",
    "\n",
    "fig = plt.figure(figsize = (10, 4))\n",
    "fig.subplots_adjust( wspace=0.3)\n",
    "ax1 = fig.add_subplot(121)\n",
    "ax1.plot(rholiang[0], rholiang[1], color = 'red')\n",
    "ax1.plot(rhor2[0], rhor2[1], color = 'cyan')\n",
    "ax1.plot(rhor1[0], rhor1[1], color = 'black')\n",
    "ax1.plot(rhoy[0]/1000, rhoy[1]/1000, 'o', color = 'k')\n",
    "ax1.plot(rhox[0]/1000, rhox[1]/1000, 'o', color = 'k')\n",
    "ax1.set_xlabel(r'$\\rho_1$ /  kmol m$^{-3}$')\n",
    "ax1.set_ylabel(r'$\\rho_2$ / kmol m$^{-3}$')\n",
    "\n",
    "ax2 = fig.add_subplot(122)\n",
    "ax2.plot(path/1000, alphas)\n",
    "ax2.axhline(y = 0, linestyle = '--',color = 'r')\n",
    "ax2.set_ylabel(r'$\\alpha$')\n",
    "ax2.set_xlabel(r'path function / 1000')\n",
    "\n",
    "ax2.tick_params(direction='in')\n",
    "ax2.tick_params(direction='in')\n",
    "\n",
    "# fig.savefig('sgt_mix_beta0.pdf')"
   ]
  },
  {
   "cell_type": "markdown",
   "metadata": {},
   "source": [
    "For further information of any of these functions just run: ```function?```"
   ]
  },
  {
   "cell_type": "code",
   "execution_count": null,
   "metadata": {},
   "outputs": [],
   "source": []
  }
 ],
 "metadata": {
  "kernelspec": {
   "display_name": "thermo",
   "language": "python",
   "name": "thermo"
  },
  "language_info": {
   "codemirror_mode": {
    "name": "ipython",
    "version": 3
   },
   "file_extension": ".py",
   "mimetype": "text/x-python",
   "name": "python",
   "nbconvert_exporter": "python",
   "pygments_lexer": "ipython3",
   "version": "3.9.7"
  }
 },
 "nbformat": 4,
 "nbformat_minor": 4
}
